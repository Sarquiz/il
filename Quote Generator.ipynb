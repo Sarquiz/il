{
 "cells": [
  {
   "cell_type": "code",
   "execution_count": 1,
   "metadata": {},
   "outputs": [
    {
     "name": "stdout",
     "output_type": "stream",
     "text": [
      "1 Confidence is the ability to feel beautiful, without needing someone to tell you.\n",
      "2 Life is better when you’re laughing.\n",
      "3 Arrogance requires advertising, while confidence speaks for itself.\n",
      "4 May your day feel as good as taking a perfect selfie on the first try.\n",
      "5 Dream without fear. Love without limits.\n",
      "6 My advice to the world? Be as picky with your partners as you are with your selfies.\n",
      "7 Not everyone likes me, but not everyone matters.\n",
      "8 This is what I like about photographs. They’re proof that once, even if just for a heartbeat, everything was perfect.\n",
      "9 If I say first of all, run away because I have prepared research, data, and charts and I will destroy you.\n",
      "10 Be like snow, cold but beautiful.” – Lana del Rey\n",
      "11 It is up to you to see the beauty of everyday things.\n",
      "12 Mermaids don’t lose sleep over the opinion of shrimp.\n"
     ]
    }
   ],
   "source": [
    "def load_data():\n",
    "    return (\n",
    "        \"Confidence is the ability to feel beautiful, without needing someone to tell you.\",\n",
    "\"Life is better when you’re laughing.\",\n",
    "\"Arrogance requires advertising, while confidence speaks for itself.\",\n",
    "\"May your day feel as good as taking a perfect selfie on the first try.\",\n",
    "\"Dream without fear. Love without limits.\",\n",
    "\"My advice to the world? Be as picky with your partners as you are with your selfies.\",\n",
    "\"Not everyone likes me, but not everyone matters.\",\n",
    "\"This is what I like about photographs. They’re proof that once, even if just for a heartbeat, everything was perfect.\",\n",
    "\"If I say first of all, run away because I have prepared research, data, and charts and I will destroy you.\",\n",
    "\"Be like snow, cold but beautiful.” – Lana del Rey\",\n",
    "\"It is up to you to see the beauty of everyday things.\",\n",
    "\"Mermaids don’t lose sleep over the opinion of shrimp.\",\n",
    "    )\n",
    "\n",
    "\n",
    "# TODO: Create a dictionary (see instructions for more information)\n",
    "def parse_data(data):\n",
    "    return dict()\n",
    "\n",
    "\n",
    "# Data loading / access test ...\n",
    "for ss, line in enumerate(load_data(), 1):\n",
    "    print(ss, line)\n"
   ]
  },
  {
   "cell_type": "code",
   "execution_count": 2,
   "metadata": {},
   "outputs": [
    {
     "name": "stdout",
     "output_type": "stream",
     "text": [
      "|++++|++++|++++|++++|++++|++++|++++|++++|++++|++++|++++|++++|++++|++++|++++|++++\n"
     ]
    },
    {
     "name": "stderr",
     "output_type": "stream",
     "text": [
      "<>:19: SyntaxWarning: \"is\" with a literal. Did you mean \"==\"?\n",
      "<>:25: SyntaxWarning: \"is not\" with a literal. Did you mean \"!=\"?\n",
      "<>:60: SyntaxWarning: \"is\" with a literal. Did you mean \"==\"?\n",
      "<>:19: SyntaxWarning: \"is\" with a literal. Did you mean \"==\"?\n",
      "<>:25: SyntaxWarning: \"is not\" with a literal. Did you mean \"!=\"?\n",
      "<>:60: SyntaxWarning: \"is\" with a literal. Did you mean \"==\"?\n",
      "<ipython-input-2-f2735b732b9d>:19: SyntaxWarning: \"is\" with a literal. Did you mean \"==\"?\n",
      "  if data is None or len(data) is 0:\n",
      "<ipython-input-2-f2735b732b9d>:25: SyntaxWarning: \"is not\" with a literal. Did you mean \"!=\"?\n",
      "  if len(fields) is not 2:\n",
      "<ipython-input-2-f2735b732b9d>:60: SyntaxWarning: \"is\" with a literal. Did you mean \"==\"?\n",
      "  if ss % 5 is 0:\n"
     ]
    }
   ],
   "source": [
    "def load_data():\n",
    "    return (\n",
    "        \"Confidence is the ability to feel beautiful, without needing someone to tell you.\",\n",
    "\"Life is better when you’re laughing.\",\n",
    "\"Arrogance requires advertising, while confidence speaks for itself.\",\n",
    "\"May your day feel as good as taking a perfect selfie on the first try.\",\n",
    "\"Dream without fear. Love without limits.\",\n",
    "\"My advice to the world? Be as picky with your partners as you are with your selfies.\",\n",
    "\"Not everyone likes me, but not everyone matters.\",\n",
    "\"This is what I like about photographs. They’re proof that once, even if just for a heartbeat, everything was perfect.\",\n",
    "\"If I say first of all, run away because I have prepared research, data, and charts and I will destroy you.\",\n",
    "\"Be like snow, cold but beautiful.” – Lana del Rey\",\n",
    "\"It is up to you to see the beauty of everyday things.\",\n",
    "\"Mermaids don’t lose sleep over the opinion of shrimp.\",\n",
    "    )\n",
    "\n",
    "\n",
    "def parse_data(data):\n",
    "    if data is None or len(data) is 0:\n",
    "        return None\n",
    "\n",
    "    result = list()\n",
    "    for row in data:\n",
    "        fields = row.split('|')\n",
    "        if len(fields) is not 2:\n",
    "            return None\n",
    "        result.append(dict(author=fields[0], quote=fields[1]))\n",
    "    return result\n",
    "\n",
    "\n",
    "def wrap(message, size):\n",
    "    import textwrap\n",
    "    return textwrap.wrap(message, size)\n",
    "\n",
    "\n",
    "def banner(ref, size=40, screen_size=79):\n",
    "    quote = wrap(ref['quote'], size)\n",
    "    prefix = int((screen_size - size) /2)\n",
    "    if prefix < 0:\n",
    "        prefix = 0\n",
    "    prefix = ' ' * (prefix -1)\n",
    "    print(prefix, '*' * size)\n",
    "    for line in quote:\n",
    "        print(prefix, line)\n",
    "    author =  \"--- \" + ref['author']\n",
    "    if len(author) > size:\n",
    "        author = wrap(author, size)\n",
    "        for row in author:\n",
    "            print(prefix, author)\n",
    "    else:\n",
    "        while len(author) < size:\n",
    "            author = \" \" + author\n",
    "        print(prefix, author)\n",
    "    print(prefix, '*' * size)\n",
    "\n",
    "\n",
    "# Wanted to measure the results:\n",
    "def print_ruler(screen_size=80):\n",
    "    for ss in range(screen_size):\n",
    "        if ss % 5 is 0:\n",
    "            print('|', end='')\n",
    "        else:\n",
    "            print('+', end='')\n",
    "    print()\n",
    "\n",
    "\n",
    "zquotes = parse_data(load_data())\n",
    "\n",
    "import random\n",
    "random.seed()\n",
    "\n",
    "print_ruler()\n",
    "\n",
    "#banner(zquotes[random.randrange(len(zquotes))], 30)\n",
    "#banner(zquotes[random.randrange(len(zquotes))], 60)\n",
    "\n",
    "# (code ends)"
   ]
  },
  {
   "cell_type": "code",
   "execution_count": 3,
   "metadata": {},
   "outputs": [
    {
     "ename": "TypeError",
     "evalue": "object of type 'NoneType' has no len()",
     "output_type": "error",
     "traceback": [
      "\u001b[1;31m---------------------------------------------------------------------------\u001b[0m",
      "\u001b[1;31mTypeError\u001b[0m                                 Traceback (most recent call last)",
      "\u001b[1;32m<ipython-input-3-5d6705b7c0e0>\u001b[0m in \u001b[0;36m<module>\u001b[1;34m\u001b[0m\n\u001b[1;32m----> 1\u001b[1;33m \u001b[0mbanner\u001b[0m\u001b[1;33m(\u001b[0m\u001b[0mzquotes\u001b[0m\u001b[1;33m[\u001b[0m\u001b[0mrandom\u001b[0m\u001b[1;33m.\u001b[0m\u001b[0mrandrange\u001b[0m\u001b[1;33m(\u001b[0m\u001b[0mlen\u001b[0m\u001b[1;33m(\u001b[0m\u001b[0mzquotes\u001b[0m\u001b[1;33m)\u001b[0m\u001b[1;33m)\u001b[0m\u001b[1;33m]\u001b[0m\u001b[1;33m,\u001b[0m \u001b[1;36m30\u001b[0m\u001b[1;33m)\u001b[0m\u001b[1;33m\u001b[0m\u001b[1;33m\u001b[0m\u001b[0m\n\u001b[0m",
      "\u001b[1;31mTypeError\u001b[0m: object of type 'NoneType' has no len()"
     ]
    }
   ],
   "source": [
    "banner(zquotes[random.randrange(len(zquotes))], 30)"
   ]
  },
  {
   "cell_type": "code",
   "execution_count": null,
   "metadata": {},
   "outputs": [],
   "source": []
  }
 ],
 "metadata": {
  "kernelspec": {
   "display_name": "Python 3",
   "language": "python",
   "name": "python3"
  },
  "language_info": {
   "codemirror_mode": {
    "name": "ipython",
    "version": 3
   },
   "file_extension": ".py",
   "mimetype": "text/x-python",
   "name": "python",
   "nbconvert_exporter": "python",
   "pygments_lexer": "ipython3",
   "version": "3.8.5"
  }
 },
 "nbformat": 4,
 "nbformat_minor": 2
}
